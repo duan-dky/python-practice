{
 "cells": [
  {
   "cell_type": "code",
   "execution_count": 4,
   "metadata": {},
   "outputs": [],
   "source": [
    "import pandas as pd\n",
    "import numpy as np"
   ]
  },
  {
   "cell_type": "code",
   "execution_count": 3,
   "metadata": {},
   "outputs": [
    {
     "name": "stdout",
     "output_type": "stream",
     "text": [
      "                                             gram  counts\n",
      "0                               covid 19 pandemic     718\n",
      "1                                covid 19 vaccine     412\n",
      "2                          without taking vaccine     371\n",
      "3                                  covid 19 cases     360\n",
      "4                               covid covid covid     294\n",
      "..                                            ...     ...\n",
      "995                    medidas bioseguridad covid      21\n",
      "996              doses tds elespoderiamestarvivos      21\n",
      "997  tds elespoderiamestarvivos vacinaparatodosjá      21\n",
      "998                            19 casos positivos      21\n",
      "999                           smart thank serving      21\n",
      "\n",
      "[1000 rows x 2 columns]\n"
     ]
    }
   ],
   "source": [
    "data=pd.read_csv(\"top1000bigrams.csv\")\n",
    "print(data)"
   ]
  },
  {
   "cell_type": "code",
   "execution_count": null,
   "metadata": {},
   "outputs": [],
   "source": []
  }
 ],
 "metadata": {
  "kernelspec": {
   "display_name": "Python 3.9.2 64-bit",
   "language": "python",
   "name": "python3"
  },
  "language_info": {
   "codemirror_mode": {
    "name": "ipython",
    "version": 3
   },
   "file_extension": ".py",
   "mimetype": "text/x-python",
   "name": "python",
   "nbconvert_exporter": "python",
   "pygments_lexer": "ipython3",
   "version": "3.9.2"
  },
  "orig_nbformat": 4,
  "vscode": {
   "interpreter": {
    "hash": "916dbcbb3f70747c44a77c7bcd40155683ae19c65e1c03b4aa3499c5328201f1"
   }
  }
 },
 "nbformat": 4,
 "nbformat_minor": 2
}
