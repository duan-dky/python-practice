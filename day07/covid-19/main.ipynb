{
 "cells": [
  {
   "cell_type": "markdown",
   "metadata": {},
   "source": [
    "# 导入库"
   ]
  },
  {
   "cell_type": "code",
   "execution_count": 4,
   "metadata": {},
   "outputs": [],
   "source": [
    "import pandas as pd\n",
    "import numpy as np"
   ]
  },
  {
   "cell_type": "markdown",
   "metadata": {},
   "source": [
    "# 读取数据集"
   ]
  },
  {
   "cell_type": "code",
   "execution_count": 3,
   "metadata": {},
   "outputs": [
    {
     "name": "stdout",
     "output_type": "stream",
     "text": [
      "                                             gram  counts\n",
      "0                               covid 19 pandemic     718\n",
      "1                                covid 19 vaccine     412\n",
      "2                          without taking vaccine     371\n",
      "3                                  covid 19 cases     360\n",
      "4                               covid covid covid     294\n",
      "..                                            ...     ...\n",
      "995                    medidas bioseguridad covid      21\n",
      "996              doses tds elespoderiamestarvivos      21\n",
      "997  tds elespoderiamestarvivos vacinaparatodosjá      21\n",
      "998                            19 casos positivos      21\n",
      "999                           smart thank serving      21\n",
      "\n",
      "[1000 rows x 2 columns]\n"
     ]
    }
   ],
   "source": [
    "data=pd.read_csv(\"top1000bigrams.csv\")\n",
    "print(data)"
   ]
  },
  {
   "cell_type": "markdown",
   "metadata": {},
   "source": [
    "# COVID19图表\n"
   ]
  },
  {
   "cell_type": "code",
   "execution_count": 2,
   "metadata": {},
   "outputs": [
    {
     "name": "stderr",
     "output_type": "stream",
     "text": [
      "/tmp/ipykernel_25936/1257542538.py:107: FutureWarning: The frame.append method is deprecated and will be removed from pandas in a future version. Use pandas.concat instead.\n",
      "  world_data = world_data.append(\n"
     ]
    },
    {
     "data": {
      "text/plain": [
       "'/home/dky/Github/Mine/python-practice/day07/covid-19/render.html'"
      ]
     },
     "execution_count": 2,
     "metadata": {},
     "output_type": "execute_result"
    }
   ],
   "source": [
    "#导入相关模块\n",
    "import time\n",
    "import json\n",
    "import requests\n",
    "from datetime import datetime\n",
    "import pandas as pd\n",
    "import numpy as np\n",
    "import pyecharts.options as opts\n",
    "from pyecharts.charts import Map\n",
    "from pyecharts.globals import CurrentConfig, NotebookType\n",
    "CurrentConfig.NOTEBOOK_TYPE = NotebookType.JUPYTER_LAB\n",
    "CurrentConfig.ONLINE_HOST\n",
    "\n",
    "\n",
    "# 定义抓取数据函数\n",
    "def Domestic():\n",
    "    url = 'https://api.inews.qq.com/newsqa/v1/query/inner/publish/modules/list?modules=statisGradeCityDetail,diseaseh5Shelf'\n",
    "    response = requests.get(url=url).text\n",
    "    data = json.loads(response)['data']['diseaseh5Shelf']\n",
    "    return data\n",
    "\n",
    "def Oversea():\n",
    "    url = 'https://view.inews.qq.com/g2/getOnsInfo?name=disease_foreign'\n",
    "    reponse = requests.get(url=url).json()\n",
    "    data = json.loads(reponse['data'])\n",
    "    return data\n",
    "\n",
    "domestic = Domestic()\n",
    "oversea = Oversea()\n",
    "\n",
    "\n",
    "\n",
    "\n",
    "'''\n",
    "print(domestic.keys())\n",
    "print(oversea.keys())\n",
    "'''\n",
    "\n",
    "\n",
    "\n",
    "\n",
    "# 提取各地区数据明细\n",
    "areaTree = domestic['areaTree']\n",
    "# 查看并分析具体数据\n",
    "areaTree\n",
    "\n",
    "# 提取国外地区数据明细\n",
    "foreignList = oversea['foreignList']\n",
    "# 查看并分析具体数据\n",
    "foreignList\n",
    "\n",
    "\n",
    "\n",
    "\n",
    "\n",
    "china_data = areaTree[0]['children'] \n",
    "china_list = []\n",
    "for a in range(len(china_data)):\n",
    "    province = china_data[a]['name']  \n",
    "    confirm = china_data[a]['total']['confirm'] \n",
    "    heal = china_data[a]['total']['heal']  \n",
    "    dead = china_data[a]['total']['dead']  \n",
    "    nowConfirm = confirm - heal - dead \n",
    "    china_dict = {} \n",
    "    china_dict['province'] = province  \n",
    "    china_dict['nowConfirm'] = nowConfirm \n",
    "    china_list.append(china_dict) \n",
    "\n",
    "china_data = pd.DataFrame(china_list) \n",
    "china_data.to_excel(\"国内疫情.xlsx\", index=False) #存储为EXCEL文件\n",
    "china_data.head()\n",
    "\n",
    "\n",
    "\n",
    "\n",
    "world_data = foreignList  \n",
    "world_list = []  \n",
    "\n",
    "for a in range(len(world_data)):\n",
    "    # 提取数据\n",
    "    country = world_data[a]['name']\n",
    "    nowConfirm = world_data[a]['nowConfirm']  \n",
    "    confirm = world_data[a]['confirm']\n",
    "    dead = world_data[a]['dead']  \n",
    "    heal = world_data[a]['heal'] \n",
    "    # 存放数据\n",
    "    world_dict = {}\n",
    "    world_dict['country'] = country\n",
    "    world_dict['nowConfirm'] = nowConfirm\n",
    "    world_dict['confirm'] = confirm\n",
    "    world_dict['dead'] = dead\n",
    "    world_dict['heal'] = heal\n",
    "    world_list.append(world_dict)\n",
    "\n",
    "world_data = pd.DataFrame(world_list)\n",
    "world_data.to_excel(\"国外疫情.xlsx\", index=False)\n",
    "world_data.head()\n",
    "\n",
    "\n",
    "\n",
    "\n",
    "confirm = areaTree[0]['total']['confirm']   # 提取中国累计确诊数据\n",
    "heal = areaTree[0]['total']['heal']         # 提取中国累计治愈数据\n",
    "dead = areaTree[0]['total']['dead']         # 提取中国累计死亡数据\n",
    "nowConfirm = confirm - heal - dead          # 计算中国现有确诊数量\n",
    "\n",
    "world_data = world_data.append(\n",
    "    {\n",
    "        'country': \"中国\",\n",
    "        'nowConfirm': nowConfirm,\n",
    "        'confirm': confirm,\n",
    "        'heal': heal,\n",
    "        'dead': dead\n",
    "    },\n",
    "    ignore_index=True)\n",
    "\n",
    "province=list(china_data[\"province\"])\n",
    "nowConfirm=list(china_data[\"nowConfirm\"])\n",
    "data=[]\n",
    "i=0\n",
    "while i< len(province):\n",
    "    data.append((province[i],nowConfirm[i]))\n",
    "    i+=1\n",
    "# print(data)\n",
    "m = Map()\n",
    "m.add(\"\",data,\n",
    "      maptype=\"china\",\n",
    "      is_map_symbol_show=False)\n",
    "m.set_global_opts(\n",
    "    title_opts=opts.TitleOpts(title=\"COVID-19中国现有地区现有确诊人数地图\"),\n",
    "    visualmap_opts=opts.VisualMapOpts(\n",
    "        is_piecewise=True,\n",
    "        pieces=[\n",
    "            {\n",
    "                \"min\": 5000,\n",
    "                \"label\": '>5000',\n",
    "                \"color\": \"#893448\"\n",
    "            },  # 不指定 max，表示 max 为无限大\n",
    "            {\n",
    "                \"min\": 1000,\n",
    "                \"max\": 4999,\n",
    "                \"label\": '1000-4999',\n",
    "                \"color\": \"#ff585e\"\n",
    "            },\n",
    "            {\n",
    "                \"min\": 500,\n",
    "                \"max\": 999,\n",
    "                \"label\": '500-1000',\n",
    "                \"color\": \"#fb8146\"\n",
    "            },\n",
    "            {\n",
    "                \"min\": 101,\n",
    "                \"max\": 499,\n",
    "                \"label\": '101-499',\n",
    "                \"color\": \"#ffA500\"\n",
    "            },\n",
    "            {\n",
    "                \"min\": 10,\n",
    "                \"max\": 100,\n",
    "                \"label\": '10-100',\n",
    "                \"color\": \"#ffb248\"\n",
    "            },\n",
    "            {\n",
    "                \"min\": 1,\n",
    "                \"max\": 9,\n",
    "                \"label\": '1-9',\n",
    "                \"color\": \"#fff2d1\"\n",
    "            },\n",
    "            {\n",
    "                \"max\": 1,\n",
    "                \"label\": '0',\n",
    "                \"color\": \"#ffffff\"\n",
    "            }\n",
    "        ]))\n",
    "m.render()"
   ]
  }
 ],
 "metadata": {
  "kernelspec": {
   "display_name": "Python 3.10.7 64-bit",
   "language": "python",
   "name": "python3"
  },
  "language_info": {
   "codemirror_mode": {
    "name": "ipython",
    "version": 3
   },
   "file_extension": ".py",
   "mimetype": "text/x-python",
   "name": "python",
   "nbconvert_exporter": "python",
   "pygments_lexer": "ipython3",
   "version": "3.10.7"
  },
  "orig_nbformat": 4,
  "vscode": {
   "interpreter": {
    "hash": "e7370f93d1d0cde622a1f8e1c04877d8463912d04d973331ad4851f04de6915a"
   }
  }
 },
 "nbformat": 4,
 "nbformat_minor": 2
}
