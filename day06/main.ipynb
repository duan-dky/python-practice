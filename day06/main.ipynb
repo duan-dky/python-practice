{
 "cells": [
  {
   "cell_type": "markdown",
   "metadata": {},
   "source": [
    "# tkinter图形界面"
   ]
  },
  {
   "cell_type": "code",
   "execution_count": 4,
   "metadata": {},
   "outputs": [],
   "source": [
    "from tkinter import *\n",
    "from tkinter import ttk"
   ]
  },
  {
   "cell_type": "markdown",
   "metadata": {},
   "source": [
    "# helloworld程序"
   ]
  },
  {
   "cell_type": "code",
   "execution_count": 12,
   "metadata": {},
   "outputs": [],
   "source": [
    "root = Tk()\n",
    "frm = ttk.Frame(root, padding=10)\n",
    "frm.grid()\n",
    "ttk.Label(frm,text=\"hello_world\").grid(column=0,row=0)\n",
    "ttk.Button(frm,text=\"quit\",command=root.destroy).grid(column=0,row=1)\n",
    "root.mainloop()"
   ]
  },
  {
   "cell_type": "code",
   "execution_count": null,
   "metadata": {},
   "outputs": [],
   "source": [
    "# 包装tcl"
   ]
  },
  {
   "cell_type": "code",
   "execution_count": 14,
   "metadata": {},
   "outputs": [
    {
     "name": "stdout",
     "output_type": "stream",
     "text": [
      "6.4.0\n",
      "6.4.0\n"
     ]
    }
   ],
   "source": [
    "from PyQt6.QtCore import QT_VERSION_STR\n",
    "from PyQt6.QtCore import PYQT_VERSION_STR\n",
    "print(QT_VERSION_STR)\n",
    "print(PYQT_VERSION_STR)"
   ]
  },
  {
   "cell_type": "code",
   "execution_count": 16,
   "metadata": {},
   "outputs": [],
   "source": [
    "import sys\n",
    "from PyQt6.QtWidgets import QApplication,QWidget\n",
    "\n",
    "def main():\n",
    "    app = QApplication(sys.argv)\n",
    "    w = QWidget()\n",
    "    w.resize(250,200)\n",
    "    w.move(300,300)\n",
    "    w.setWindowTitle('hello')\n",
    "    w.show()\n",
    "    sys.exit(app.exec())\n",
    "if __name__ == '__main__':\n",
    "    main()\n"
   ]
  },
  {
   "cell_type": "markdown",
   "metadata": {},
   "source": [
    "# flask框架"
   ]
  },
  {
   "cell_type": "code",
   "execution_count": 7,
   "metadata": {},
   "outputs": [],
   "source": [
    "from flask import Flask\n",
    "app = Flask(__name__)\n",
    "@app.route(\"/\")\n",
    "def hello_world():\n",
    "    return \"<p>hello world!</p>\""
   ]
  }
 ],
 "metadata": {
  "kernelspec": {
   "display_name": "Python 3.10.7 64-bit",
   "language": "python",
   "name": "python3"
  },
  "language_info": {
   "codemirror_mode": {
    "name": "ipython",
    "version": 3
   },
   "file_extension": ".py",
   "mimetype": "text/x-python",
   "name": "python",
   "nbconvert_exporter": "python",
   "pygments_lexer": "ipython3",
   "version": "3.10.7"
  },
  "orig_nbformat": 4,
  "vscode": {
   "interpreter": {
    "hash": "e7370f93d1d0cde622a1f8e1c04877d8463912d04d973331ad4851f04de6915a"
   }
  }
 },
 "nbformat": 4,
 "nbformat_minor": 2
}
